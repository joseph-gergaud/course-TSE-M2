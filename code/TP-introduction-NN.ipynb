{
 "cells": [
  {
   "cell_type": "markdown",
   "metadata": {},
   "source": [
    "# Neural Network\n",
    "\n",
    "Complete the descent with constant rate function"
   ]
  },
  {
   "cell_type": "code",
   "execution_count": null,
   "metadata": {
    "vscode": {
     "languageId": "julia"
    }
   },
   "outputs": [],
   "source": [
    "function my_descent(f,x0::Vector{<:Real};η=0.1,AbsTol= abs(eps()), RelTol = abs(eps()), ε=0.01, nbit_max = 0)# to complete\n",
    "\n",
    "  return xₖ, flag, fₖ, ∇fₖ, k  c\n",
    "end"
   ]
  },
  {
   "cell_type": "markdown",
   "metadata": {},
   "source": [
    "And apply this code for solving the following problem\n",
    "\n",
    "$$(P)\\left\\{\\begin{array}{l}\n",
    "Min\\;f(\\beta) = \\frac{1}{n}\\|X\\beta - y\\|^2\\\\\n",
    "\\beta\\in\\R^2\n",
    "\\end{array}\\right.\n",
    "$$\n",
    "with\n",
    "$$X = \\begin{pmatrix}\n",
    "1 & x_1\\\\\n",
    "\\vdots & \\vdots\\\\\n",
    "1 & x_5\n",
    "\\end{pmatrix}\n",
    "\\;\\;\\textrm{and}\\;\\;\n",
    "y = \\begin{pmatrix}\n",
    "y_1\\\\\n",
    "\\vdots\\\\\n",
    "y_5\n",
    "\\end{pmatrix}\n",
    "$$\n",
    "\n",
    "\n",
    "You 'll print the first 7 iterations for the initual guess \n",
    "$x0= (n/2)(9,1)$."
   ]
  },
  {
   "cell_type": "code",
   "execution_count": null,
   "metadata": {
    "vscode": {
     "languageId": "plaintext"
    }
   },
   "outputs": [],
   "source": [
    "using Plots\n",
    "# n = 5\n",
    "x1 = 1.; x2 = sqrt(5*9/2-x1^2);\n",
    "x = [-x2,-x1,0.,x1,x2]\n",
    "n = length(x)\n",
    "a₁ = 1; a₀ = 2\n",
    "y = a₁*x .+ a₀ # model\n"
   ]
  },
  {
   "cell_type": "markdown",
   "metadata": {},
   "source": [
    "## "
   ]
  },
  {
   "cell_type": "code",
   "execution_count": null,
   "metadata": {
    "vscode": {
     "languageId": "julia"
    }
   },
   "outputs": [],
   "source": [
    "function descent_backtrac(f,x0::Vector{<:Real};AbsTol= abs(eps()), RelTol = abs(eps()), ε=0.01, nbit_max = 0)\n",
    "    # to complete\n",
    "\n",
    "  return xₖ, flag, fₖ, ∇fₖ, k  c\n",
    "end"
   ]
  },
  {
   "cell_type": "code",
   "execution_count": null,
   "metadata": {
    "vscode": {
     "languageId": "julia"
    }
   },
   "outputs": [],
   "source": [
    "using Plots\n",
    "x = range(-10*(n/2)-xsol[1],stop=10*(n/2)-xsol[1],length=100)\n",
    "y = range(-9*(n/2)-xsol[2],stop=9*(n/2)-xsol[2],length=100)\n",
    "f_contour(x,y) = f([x,y])\n",
    "z = @. f_contour(x', y)\n",
    "nb_levels = 7\n",
    "x0 = (n/2)*[9,1]"
   ]
  }
 ],
 "metadata": {
  "language_info": {
   "name": "python"
  }
 },
 "nbformat": 4,
 "nbformat_minor": 2
}
